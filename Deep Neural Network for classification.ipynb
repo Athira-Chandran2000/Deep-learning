{
 "cells": [
  {
   "cell_type": "code",
   "execution_count": 1,
   "id": "407fb41d-9ca6-4cd4-906e-67367f5d6a20",
   "metadata": {},
   "outputs": [],
   "source": [
    "import pandas as pd\n",
    "import numpy as np\n",
    "import matplotlib.pyplot as plt\n",
    "from sklearn.model_selection import train_test_split\n",
    "from sklearn.preprocessing import StandardScaler, LabelEncoder\n",
    "from sklearn.metrics import classification_report\n",
    "import tensorflow as tf\n",
    "from tensorflow.keras.models import Sequential\n",
    "from tensorflow.keras.layers import Dense, Input"
   ]
  },
  {
   "cell_type": "code",
   "execution_count": 2,
   "id": "fb02ddcb-8227-40c4-9b78-a42957dfdb94",
   "metadata": {},
   "outputs": [],
   "source": [
    "# Dermatology dataset from UCI is used\n",
    "# Used for classifying 6 skin diseases (psoriasis, seboreic dermatitis, lichen planus, pityriasis rosea, cronic dermatitis, and pityriasis rubra pilaris) based on 23 features\n",
    "dataset_url = \"https://archive.ics.uci.edu/ml/machine-learning-databases/dermatology/dermatology.data\"\n",
    "columns = [\"erythema\", \"scaling\", \"definite_borders\", \"itching\", \"koebner_phenomenon\", \"polygonal_papules\", \"follicular_papules\", \"oral_mucosal\", \"knee_elbow\", \"scalp\", \"family_history\", \"melanin\", \"eosinophils\", \"PNL\", \"fibrosis\", \"exocytosis\", \"acanthosis\", \"hyperkeratosis\", \"parakeratosis\", \"clubbing\", \"elongation\", \"spongiosis\", \"mitosis\", \"target\"]\n",
    "df = pd.read_csv(dataset_url, header=None, names=columns, na_values=\"?\")"
   ]
  },
  {
   "cell_type": "code",
   "execution_count": 3,
   "id": "01118e92-c928-4f5d-af37-7d6400225d71",
   "metadata": {},
   "outputs": [
    {
     "data": {
      "text/plain": [
       "erythema              0\n",
       "scaling               0\n",
       "definite_borders      0\n",
       "itching               0\n",
       "koebner_phenomenon    0\n",
       "polygonal_papules     0\n",
       "follicular_papules    0\n",
       "oral_mucosal          0\n",
       "knee_elbow            0\n",
       "scalp                 0\n",
       "family_history        0\n",
       "melanin               0\n",
       "eosinophils           0\n",
       "PNL                   0\n",
       "fibrosis              0\n",
       "exocytosis            0\n",
       "acanthosis            0\n",
       "hyperkeratosis        0\n",
       "parakeratosis         0\n",
       "clubbing              0\n",
       "elongation            0\n",
       "spongiosis            0\n",
       "mitosis               8\n",
       "target                0\n",
       "dtype: int64"
      ]
     },
     "execution_count": 3,
     "metadata": {},
     "output_type": "execute_result"
    }
   ],
   "source": [
    "df.isnull().sum()"
   ]
  },
  {
   "cell_type": "code",
   "execution_count": 4,
   "id": "78d690d5-cda5-4d09-a296-83b3befcf98b",
   "metadata": {},
   "outputs": [],
   "source": [
    "# Handle missing values\n",
    "df.dropna(inplace=True)"
   ]
  },
  {
   "cell_type": "code",
   "execution_count": 5,
   "id": "2dc6df66-98b2-4f44-b845-8ba64be4d4ea",
   "metadata": {},
   "outputs": [],
   "source": [
    "X = df.drop(\"target\", axis=1) #Features\n",
    "y = df[\"target\"] #Target variable"
   ]
  },
  {
   "cell_type": "code",
   "execution_count": 6,
   "id": "003ebef0-cea8-45df-ae08-48d8018a95d5",
   "metadata": {},
   "outputs": [],
   "source": [
    "#Label encoding target variable (multi-class)\n",
    "encoder = LabelEncoder()\n",
    "y = encoder.fit_transform(y)"
   ]
  },
  {
   "cell_type": "code",
   "execution_count": 7,
   "id": "dc2024ac-98eb-41b6-9983-995fa37e9469",
   "metadata": {},
   "outputs": [],
   "source": [
    "X_train, X_test, y_train, y_test = train_test_split(X, y, test_size=0.2, random_state=42, stratify=y) #splitting data for testing and training\n",
    "#stratify=y, is used for ensuring that the proportion of classes in y is preserved in both training and testing splits."
   ]
  },
  {
   "cell_type": "code",
   "execution_count": 8,
   "id": "0b415186-f36a-4636-9504-a10952a040b8",
   "metadata": {},
   "outputs": [],
   "source": [
    "# Standardize features using standard scaler\n",
    "scaler = StandardScaler()\n",
    "X_train = scaler.fit_transform(X_train)\n",
    "X_test = scaler.transform(X_test)"
   ]
  },
  {
   "cell_type": "code",
   "execution_count": 9,
   "id": "d2695fdc-4bac-4f8c-ad43-162bd9e71918",
   "metadata": {},
   "outputs": [],
   "source": [
    "model = Sequential([\n",
    "    Input(shape=(X_train.shape[1],)),   #Define the input layer, specifying the input shape (number of features in the training data)\n",
    "    Dense(128, activation='relu'), #Add a hidden layer with 128 neurons and reLu activation function\n",
    "    Dense(64, activation='relu'), #Add a hidden layer with 64 neurons and reLU activation function\n",
    "    Dense(32, activation='relu'), #Add a hidden layer with 32 neurons and reLU activation function\n",
    "    Dense(len(np.unique(y)), activation='softmax')  #Add the output layer with the total number of classes in the target variable and softmax activation function\n",
    "])"
   ]
  },
  {
   "cell_type": "code",
   "execution_count": 10,
   "id": "ee83f470-90ca-466a-bb08-818367aa6f3e",
   "metadata": {},
   "outputs": [],
   "source": [
    "# Compile model\n",
    "model.compile(optimizer='adam',\n",
    "              loss='sparse_categorical_crossentropy',\n",
    "              metrics=['accuracy'])"
   ]
  },
  {
   "cell_type": "code",
   "execution_count": 11,
   "id": "ffc46e16-2d27-4f1f-810c-d14cef9cde50",
   "metadata": {},
   "outputs": [
    {
     "name": "stdout",
     "output_type": "stream",
     "text": [
      "Epoch 1/50\n",
      "\u001b[1m8/8\u001b[0m \u001b[32m━━━━━━━━━━━━━━━━━━━━\u001b[0m\u001b[37m\u001b[0m \u001b[1m3s\u001b[0m 74ms/step - accuracy: 0.2110 - loss: 1.8846 - val_accuracy: 0.5690 - val_loss: 1.3056\n",
      "Epoch 2/50\n",
      "\u001b[1m8/8\u001b[0m \u001b[32m━━━━━━━━━━━━━━━━━━━━\u001b[0m\u001b[37m\u001b[0m \u001b[1m0s\u001b[0m 19ms/step - accuracy: 0.6787 - loss: 1.3017 - val_accuracy: 0.9138 - val_loss: 0.9156\n",
      "Epoch 3/50\n",
      "\u001b[1m8/8\u001b[0m \u001b[32m━━━━━━━━━━━━━━━━━━━━\u001b[0m\u001b[37m\u001b[0m \u001b[1m0s\u001b[0m 26ms/step - accuracy: 0.7726 - loss: 0.9591 - val_accuracy: 0.9483 - val_loss: 0.6277\n",
      "Epoch 4/50\n",
      "\u001b[1m8/8\u001b[0m \u001b[32m━━━━━━━━━━━━━━━━━━━━\u001b[0m\u001b[37m\u001b[0m \u001b[1m0s\u001b[0m 25ms/step - accuracy: 0.8359 - loss: 0.6732 - val_accuracy: 0.9483 - val_loss: 0.4236\n",
      "Epoch 5/50\n",
      "\u001b[1m8/8\u001b[0m \u001b[32m━━━━━━━━━━━━━━━━━━━━\u001b[0m\u001b[37m\u001b[0m \u001b[1m0s\u001b[0m 28ms/step - accuracy: 0.8230 - loss: 0.5210 - val_accuracy: 0.9483 - val_loss: 0.3048\n",
      "Epoch 6/50\n",
      "\u001b[1m8/8\u001b[0m \u001b[32m━━━━━━━━━━━━━━━━━━━━\u001b[0m\u001b[37m\u001b[0m \u001b[1m0s\u001b[0m 27ms/step - accuracy: 0.8254 - loss: 0.4008 - val_accuracy: 0.9655 - val_loss: 0.2396\n",
      "Epoch 7/50\n",
      "\u001b[1m8/8\u001b[0m \u001b[32m━━━━━━━━━━━━━━━━━━━━\u001b[0m\u001b[37m\u001b[0m \u001b[1m0s\u001b[0m 26ms/step - accuracy: 0.9371 - loss: 0.2609 - val_accuracy: 0.9310 - val_loss: 0.2045\n",
      "Epoch 8/50\n",
      "\u001b[1m8/8\u001b[0m \u001b[32m━━━━━━━━━━━━━━━━━━━━\u001b[0m\u001b[37m\u001b[0m \u001b[1m0s\u001b[0m 25ms/step - accuracy: 0.9554 - loss: 0.2230 - val_accuracy: 0.9483 - val_loss: 0.1701\n",
      "Epoch 9/50\n",
      "\u001b[1m8/8\u001b[0m \u001b[32m━━━━━━━━━━━━━━━━━━━━\u001b[0m\u001b[37m\u001b[0m \u001b[1m0s\u001b[0m 27ms/step - accuracy: 0.9557 - loss: 0.1800 - val_accuracy: 0.9483 - val_loss: 0.1529\n",
      "Epoch 10/50\n",
      "\u001b[1m8/8\u001b[0m \u001b[32m━━━━━━━━━━━━━━━━━━━━\u001b[0m\u001b[37m\u001b[0m \u001b[1m0s\u001b[0m 27ms/step - accuracy: 0.9368 - loss: 0.1647 - val_accuracy: 0.9483 - val_loss: 0.1400\n",
      "Epoch 11/50\n",
      "\u001b[1m8/8\u001b[0m \u001b[32m━━━━━━━━━━━━━━━━━━━━\u001b[0m\u001b[37m\u001b[0m \u001b[1m0s\u001b[0m 28ms/step - accuracy: 0.9486 - loss: 0.1466 - val_accuracy: 0.9483 - val_loss: 0.1149\n",
      "Epoch 12/50\n",
      "\u001b[1m8/8\u001b[0m \u001b[32m━━━━━━━━━━━━━━━━━━━━\u001b[0m\u001b[37m\u001b[0m \u001b[1m0s\u001b[0m 31ms/step - accuracy: 0.9506 - loss: 0.1408 - val_accuracy: 0.9483 - val_loss: 0.1152\n",
      "Epoch 13/50\n",
      "\u001b[1m8/8\u001b[0m \u001b[32m━━━━━━━━━━━━━━━━━━━━\u001b[0m\u001b[37m\u001b[0m \u001b[1m0s\u001b[0m 28ms/step - accuracy: 0.9668 - loss: 0.1003 - val_accuracy: 0.9483 - val_loss: 0.1056\n",
      "Epoch 14/50\n",
      "\u001b[1m8/8\u001b[0m \u001b[32m━━━━━━━━━━━━━━━━━━━━\u001b[0m\u001b[37m\u001b[0m \u001b[1m0s\u001b[0m 21ms/step - accuracy: 0.9572 - loss: 0.1116 - val_accuracy: 0.9655 - val_loss: 0.1030\n",
      "Epoch 15/50\n",
      "\u001b[1m8/8\u001b[0m \u001b[32m━━━━━━━━━━━━━━━━━━━━\u001b[0m\u001b[37m\u001b[0m \u001b[1m0s\u001b[0m 24ms/step - accuracy: 0.9794 - loss: 0.0761 - val_accuracy: 0.9655 - val_loss: 0.0981\n",
      "Epoch 16/50\n",
      "\u001b[1m8/8\u001b[0m \u001b[32m━━━━━━━━━━━━━━━━━━━━\u001b[0m\u001b[37m\u001b[0m \u001b[1m0s\u001b[0m 24ms/step - accuracy: 0.9676 - loss: 0.0886 - val_accuracy: 0.9655 - val_loss: 0.0954\n",
      "Epoch 17/50\n",
      "\u001b[1m8/8\u001b[0m \u001b[32m━━━━━━━━━━━━━━━━━━━━\u001b[0m\u001b[37m\u001b[0m \u001b[1m0s\u001b[0m 21ms/step - accuracy: 0.9780 - loss: 0.0848 - val_accuracy: 0.9655 - val_loss: 0.0949\n",
      "Epoch 18/50\n",
      "\u001b[1m8/8\u001b[0m \u001b[32m━━━━━━━━━━━━━━━━━━━━\u001b[0m\u001b[37m\u001b[0m \u001b[1m0s\u001b[0m 28ms/step - accuracy: 0.9784 - loss: 0.0717 - val_accuracy: 0.9655 - val_loss: 0.0970\n",
      "Epoch 19/50\n",
      "\u001b[1m8/8\u001b[0m \u001b[32m━━━━━━━━━━━━━━━━━━━━\u001b[0m\u001b[37m\u001b[0m \u001b[1m0s\u001b[0m 28ms/step - accuracy: 0.9656 - loss: 0.0897 - val_accuracy: 0.9655 - val_loss: 0.0863\n",
      "Epoch 20/50\n",
      "\u001b[1m8/8\u001b[0m \u001b[32m━━━━━━━━━━━━━━━━━━━━\u001b[0m\u001b[37m\u001b[0m \u001b[1m0s\u001b[0m 25ms/step - accuracy: 0.9620 - loss: 0.0805 - val_accuracy: 0.9655 - val_loss: 0.0977\n",
      "Epoch 21/50\n",
      "\u001b[1m8/8\u001b[0m \u001b[32m━━━━━━━━━━━━━━━━━━━━\u001b[0m\u001b[37m\u001b[0m \u001b[1m0s\u001b[0m 29ms/step - accuracy: 0.9767 - loss: 0.0802 - val_accuracy: 0.9655 - val_loss: 0.0926\n",
      "Epoch 22/50\n",
      "\u001b[1m8/8\u001b[0m \u001b[32m━━━━━━━━━━━━━━━━━━━━\u001b[0m\u001b[37m\u001b[0m \u001b[1m0s\u001b[0m 25ms/step - accuracy: 0.9761 - loss: 0.0620 - val_accuracy: 0.9655 - val_loss: 0.0891\n",
      "Epoch 23/50\n",
      "\u001b[1m8/8\u001b[0m \u001b[32m━━━━━━━━━━━━━━━━━━━━\u001b[0m\u001b[37m\u001b[0m \u001b[1m0s\u001b[0m 28ms/step - accuracy: 0.9743 - loss: 0.0606 - val_accuracy: 0.9655 - val_loss: 0.1006\n",
      "Epoch 24/50\n",
      "\u001b[1m8/8\u001b[0m \u001b[32m━━━━━━━━━━━━━━━━━━━━\u001b[0m\u001b[37m\u001b[0m \u001b[1m0s\u001b[0m 27ms/step - accuracy: 0.9605 - loss: 0.0722 - val_accuracy: 0.9828 - val_loss: 0.0694\n",
      "Epoch 25/50\n",
      "\u001b[1m8/8\u001b[0m \u001b[32m━━━━━━━━━━━━━━━━━━━━\u001b[0m\u001b[37m\u001b[0m \u001b[1m0s\u001b[0m 27ms/step - accuracy: 0.9758 - loss: 0.0562 - val_accuracy: 0.9655 - val_loss: 0.0908\n",
      "Epoch 26/50\n",
      "\u001b[1m8/8\u001b[0m \u001b[32m━━━━━━━━━━━━━━━━━━━━\u001b[0m\u001b[37m\u001b[0m \u001b[1m0s\u001b[0m 26ms/step - accuracy: 0.9840 - loss: 0.0475 - val_accuracy: 0.9655 - val_loss: 0.1029\n",
      "Epoch 27/50\n",
      "\u001b[1m8/8\u001b[0m \u001b[32m━━━━━━━━━━━━━━━━━━━━\u001b[0m\u001b[37m\u001b[0m \u001b[1m0s\u001b[0m 26ms/step - accuracy: 0.9889 - loss: 0.0527 - val_accuracy: 0.9655 - val_loss: 0.0770\n",
      "Epoch 28/50\n",
      "\u001b[1m8/8\u001b[0m \u001b[32m━━━━━━━━━━━━━━━━━━━━\u001b[0m\u001b[37m\u001b[0m \u001b[1m0s\u001b[0m 19ms/step - accuracy: 0.9884 - loss: 0.0455 - val_accuracy: 0.9655 - val_loss: 0.0958\n",
      "Epoch 29/50\n",
      "\u001b[1m8/8\u001b[0m \u001b[32m━━━━━━━━━━━━━━━━━━━━\u001b[0m\u001b[37m\u001b[0m \u001b[1m0s\u001b[0m 27ms/step - accuracy: 0.9887 - loss: 0.0430 - val_accuracy: 0.9655 - val_loss: 0.0926\n",
      "Epoch 30/50\n",
      "\u001b[1m8/8\u001b[0m \u001b[32m━━━━━━━━━━━━━━━━━━━━\u001b[0m\u001b[37m\u001b[0m \u001b[1m0s\u001b[0m 24ms/step - accuracy: 0.9843 - loss: 0.0465 - val_accuracy: 0.9655 - val_loss: 0.0885\n",
      "Epoch 31/50\n",
      "\u001b[1m8/8\u001b[0m \u001b[32m━━━━━━━━━━━━━━━━━━━━\u001b[0m\u001b[37m\u001b[0m \u001b[1m0s\u001b[0m 24ms/step - accuracy: 0.9776 - loss: 0.0617 - val_accuracy: 0.9483 - val_loss: 0.1515\n",
      "Epoch 32/50\n",
      "\u001b[1m8/8\u001b[0m \u001b[32m━━━━━━━━━━━━━━━━━━━━\u001b[0m\u001b[37m\u001b[0m \u001b[1m0s\u001b[0m 19ms/step - accuracy: 0.9780 - loss: 0.0582 - val_accuracy: 0.9655 - val_loss: 0.0767\n",
      "Epoch 33/50\n",
      "\u001b[1m8/8\u001b[0m \u001b[32m━━━━━━━━━━━━━━━━━━━━\u001b[0m\u001b[37m\u001b[0m \u001b[1m0s\u001b[0m 26ms/step - accuracy: 0.9920 - loss: 0.0501 - val_accuracy: 0.9655 - val_loss: 0.0947\n",
      "Epoch 34/50\n",
      "\u001b[1m8/8\u001b[0m \u001b[32m━━━━━━━━━━━━━━━━━━━━\u001b[0m\u001b[37m\u001b[0m \u001b[1m0s\u001b[0m 33ms/step - accuracy: 0.9897 - loss: 0.0361 - val_accuracy: 0.9655 - val_loss: 0.0985\n",
      "Epoch 35/50\n",
      "\u001b[1m8/8\u001b[0m \u001b[32m━━━━━━━━━━━━━━━━━━━━\u001b[0m\u001b[37m\u001b[0m \u001b[1m0s\u001b[0m 25ms/step - accuracy: 0.9787 - loss: 0.0454 - val_accuracy: 0.9655 - val_loss: 0.1002\n",
      "Epoch 36/50\n",
      "\u001b[1m8/8\u001b[0m \u001b[32m━━━━━━━━━━━━━━━━━━━━\u001b[0m\u001b[37m\u001b[0m \u001b[1m0s\u001b[0m 26ms/step - accuracy: 0.9837 - loss: 0.0435 - val_accuracy: 0.9655 - val_loss: 0.1060\n",
      "Epoch 37/50\n",
      "\u001b[1m8/8\u001b[0m \u001b[32m━━━━━━━━━━━━━━━━━━━━\u001b[0m\u001b[37m\u001b[0m \u001b[1m0s\u001b[0m 32ms/step - accuracy: 0.9904 - loss: 0.0242 - val_accuracy: 0.9655 - val_loss: 0.1022\n",
      "Epoch 38/50\n",
      "\u001b[1m8/8\u001b[0m \u001b[32m━━━━━━━━━━━━━━━━━━━━\u001b[0m\u001b[37m\u001b[0m \u001b[1m0s\u001b[0m 28ms/step - accuracy: 0.9925 - loss: 0.0314 - val_accuracy: 0.9655 - val_loss: 0.1053\n",
      "Epoch 39/50\n",
      "\u001b[1m8/8\u001b[0m \u001b[32m━━━━━━━━━━━━━━━━━━━━\u001b[0m\u001b[37m\u001b[0m \u001b[1m0s\u001b[0m 28ms/step - accuracy: 0.9911 - loss: 0.0283 - val_accuracy: 0.9655 - val_loss: 0.0995\n",
      "Epoch 40/50\n",
      "\u001b[1m8/8\u001b[0m \u001b[32m━━━━━━━━━━━━━━━━━━━━\u001b[0m\u001b[37m\u001b[0m \u001b[1m0s\u001b[0m 21ms/step - accuracy: 0.9917 - loss: 0.0309 - val_accuracy: 0.9655 - val_loss: 0.0962\n",
      "Epoch 41/50\n",
      "\u001b[1m8/8\u001b[0m \u001b[32m━━━━━━━━━━━━━━━━━━━━\u001b[0m\u001b[37m\u001b[0m \u001b[1m0s\u001b[0m 24ms/step - accuracy: 0.9880 - loss: 0.0342 - val_accuracy: 0.9655 - val_loss: 0.1127\n",
      "Epoch 42/50\n",
      "\u001b[1m8/8\u001b[0m \u001b[32m━━━━━━━━━━━━━━━━━━━━\u001b[0m\u001b[37m\u001b[0m \u001b[1m0s\u001b[0m 26ms/step - accuracy: 0.9965 - loss: 0.0253 - val_accuracy: 0.9655 - val_loss: 0.1008\n",
      "Epoch 43/50\n",
      "\u001b[1m8/8\u001b[0m \u001b[32m━━━━━━━━━━━━━━━━━━━━\u001b[0m\u001b[37m\u001b[0m \u001b[1m0s\u001b[0m 29ms/step - accuracy: 0.9965 - loss: 0.0203 - val_accuracy: 0.9655 - val_loss: 0.1064\n",
      "Epoch 44/50\n",
      "\u001b[1m8/8\u001b[0m \u001b[32m━━━━━━━━━━━━━━━━━━━━\u001b[0m\u001b[37m\u001b[0m \u001b[1m0s\u001b[0m 30ms/step - accuracy: 0.9873 - loss: 0.0295 - val_accuracy: 0.9655 - val_loss: 0.0908\n",
      "Epoch 45/50\n",
      "\u001b[1m8/8\u001b[0m \u001b[32m━━━━━━━━━━━━━━━━━━━━\u001b[0m\u001b[37m\u001b[0m \u001b[1m0s\u001b[0m 31ms/step - accuracy: 0.9945 - loss: 0.0222 - val_accuracy: 0.9655 - val_loss: 0.1186\n",
      "Epoch 46/50\n",
      "\u001b[1m8/8\u001b[0m \u001b[32m━━━━━━━━━━━━━━━━━━━━\u001b[0m\u001b[37m\u001b[0m \u001b[1m0s\u001b[0m 28ms/step - accuracy: 0.9896 - loss: 0.0323 - val_accuracy: 0.9655 - val_loss: 0.1494\n",
      "Epoch 47/50\n",
      "\u001b[1m8/8\u001b[0m \u001b[32m━━━━━━━━━━━━━━━━━━━━\u001b[0m\u001b[37m\u001b[0m \u001b[1m0s\u001b[0m 29ms/step - accuracy: 0.9899 - loss: 0.0377 - val_accuracy: 0.9655 - val_loss: 0.0876\n",
      "Epoch 48/50\n",
      "\u001b[1m8/8\u001b[0m \u001b[32m━━━━━━━━━━━━━━━━━━━━\u001b[0m\u001b[37m\u001b[0m \u001b[1m0s\u001b[0m 27ms/step - accuracy: 0.9965 - loss: 0.0235 - val_accuracy: 0.9655 - val_loss: 0.1121\n",
      "Epoch 49/50\n",
      "\u001b[1m8/8\u001b[0m \u001b[32m━━━━━━━━━━━━━━━━━━━━\u001b[0m\u001b[37m\u001b[0m \u001b[1m0s\u001b[0m 24ms/step - accuracy: 0.9959 - loss: 0.0188 - val_accuracy: 0.9655 - val_loss: 0.1370\n",
      "Epoch 50/50\n",
      "\u001b[1m8/8\u001b[0m \u001b[32m━━━━━━━━━━━━━━━━━━━━\u001b[0m\u001b[37m\u001b[0m \u001b[1m0s\u001b[0m 27ms/step - accuracy: 0.9904 - loss: 0.0175 - val_accuracy: 0.9655 - val_loss: 0.1161\n"
     ]
    }
   ],
   "source": [
    "# Train the model\n",
    "history = model.fit(X_train, y_train, epochs=50, batch_size=32, validation_split=0.2, verbose=1)"
   ]
  },
  {
   "cell_type": "code",
   "execution_count": 12,
   "id": "21635ea9-81a7-42f5-a58f-ee49a1e61bdf",
   "metadata": {},
   "outputs": [
    {
     "name": "stdout",
     "output_type": "stream",
     "text": [
      "Test Accuracy: 0.92\n"
     ]
    }
   ],
   "source": [
    "# Evaluate the model\n",
    "loss, accuracy = model.evaluate(X_test, y_test, verbose=0)\n",
    "print(f\"Test Accuracy: {accuracy:.2f}\")"
   ]
  },
  {
   "cell_type": "code",
   "execution_count": 13,
   "id": "2b93a029-8fa0-40fc-9f3f-768501e8e56e",
   "metadata": {},
   "outputs": [
    {
     "name": "stdout",
     "output_type": "stream",
     "text": [
      "\u001b[1m3/3\u001b[0m \u001b[32m━━━━━━━━━━━━━━━━━━━━\u001b[0m\u001b[37m\u001b[0m \u001b[1m0s\u001b[0m 66ms/step\n",
      "              precision    recall  f1-score   support\n",
      "\n",
      "           0       1.00      1.00      1.00        22\n",
      "           1       0.71      0.83      0.77        12\n",
      "           2       1.00      1.00      1.00        14\n",
      "           3       0.75      0.60      0.67        10\n",
      "           4       1.00      1.00      1.00        10\n",
      "           5       1.00      1.00      1.00         4\n",
      "\n",
      "    accuracy                           0.92        72\n",
      "   macro avg       0.91      0.91      0.91        72\n",
      "weighted avg       0.92      0.92      0.92        72\n",
      "\n"
     ]
    }
   ],
   "source": [
    "# Classification report\n",
    "y_pred = np.argmax(model.predict(X_test), axis=1)\n",
    "print(classification_report(y_test, y_pred))"
   ]
  },
  {
   "cell_type": "code",
   "execution_count": 14,
   "id": "e3b16cd3-eb7d-43b7-b4ce-13c6ec00894e",
   "metadata": {},
   "outputs": [
    {
     "data": {
      "image/png": "[encoded data removed]",
      "text/plain": [
       "<Figure size 1000x500 with 1 Axes>"
      ]
     },
     "metadata": {},
     "output_type": "display_data"
    }
   ],
   "source": [
    "# Plot loss curves\n",
    "plt.figure(figsize=(10, 5))\n",
    "plt.plot(history.history['loss'], label='Training Loss')\n",
    "plt.plot(history.history['val_loss'], label='Validation Loss')\n",
    "plt.title('Loss Curves')\n",
    "plt.xlabel('Epochs')\n",
    "plt.ylabel('Loss')\n",
    "plt.legend()\n",
    "plt.show()"
   ]
  },
  {
   "cell_type": "code",
   "execution_count": null,
   "id": "5d7c0312-da1c-4f90-9682-43c7ee375cd9",
   "metadata": {},
   "outputs": [],
   "source": []
  }
 ],
 "metadata": {
  "kernelspec": {
   "display_name": "Python 3 (ipykernel)",
   "language": "python",
   "name": "python3"
  },
  "language_info": {
   "codemirror_mode": {
    "name": "ipython",
    "version": 3
   },
   "file_extension": ".py",
   "mimetype": "text/x-python",
   "name": "python",
   "nbconvert_exporter": "python",
   "pygments_lexer": "ipython3",
   "version": "3.12.7"
  }
 },
 "nbformat": 4,
 "nbformat_minor": 5
}
